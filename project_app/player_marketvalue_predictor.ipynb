{
 "cells": [
  {
   "cell_type": "code",
   "execution_count": 127,
   "id": "1eca59cb",
   "metadata": {},
   "outputs": [],
   "source": [
    "import pandas as pd\n",
    "import numpy as np\n",
    "import matplotlib.pyplot as plt\n",
    "import seaborn as sns\n",
    "import json\n",
    "\n",
    "from sklearn.model_selection import train_test_split\n",
    "from sklearn.linear_model import LinearRegression"
   ]
  },
  {
   "cell_type": "markdown",
   "id": "503654bf",
   "metadata": {},
   "source": [
    "### PROBLEM STATEMENT\n",
    "\n"
   ]
  },
  {
   "cell_type": "code",
   "execution_count": 128,
   "id": "9481639c",
   "metadata": {},
   "outputs": [],
   "source": [
    "# to predict market values of each player given the input variables."
   ]
  },
  {
   "cell_type": "markdown",
   "id": "c7670a9b",
   "metadata": {},
   "source": [
    "### DATA GATHERING"
   ]
  },
  {
   "cell_type": "code",
   "execution_count": 129,
   "id": "888ca60d",
   "metadata": {},
   "outputs": [],
   "source": [
    "df = pd.read_csv(\"epldata_final.csv\")"
   ]
  },
  {
   "cell_type": "code",
   "execution_count": 130,
   "id": "44559f0c",
   "metadata": {},
   "outputs": [
    {
     "data": {
      "text/html": [
       "<div>\n",
       "<style scoped>\n",
       "    .dataframe tbody tr th:only-of-type {\n",
       "        vertical-align: middle;\n",
       "    }\n",
       "\n",
       "    .dataframe tbody tr th {\n",
       "        vertical-align: top;\n",
       "    }\n",
       "\n",
       "    .dataframe thead th {\n",
       "        text-align: right;\n",
       "    }\n",
       "</style>\n",
       "<table border=\"1\" class=\"dataframe\">\n",
       "  <thead>\n",
       "    <tr style=\"text-align: right;\">\n",
       "      <th></th>\n",
       "      <th>name</th>\n",
       "      <th>club</th>\n",
       "      <th>age</th>\n",
       "      <th>position</th>\n",
       "      <th>position_cat</th>\n",
       "      <th>market_value</th>\n",
       "      <th>page_views</th>\n",
       "      <th>fpl_value</th>\n",
       "      <th>fpl_sel</th>\n",
       "      <th>fpl_points</th>\n",
       "      <th>region</th>\n",
       "      <th>nationality</th>\n",
       "      <th>new_foreign</th>\n",
       "      <th>age_cat</th>\n",
       "      <th>club_id</th>\n",
       "      <th>big_club</th>\n",
       "      <th>new_signing</th>\n",
       "    </tr>\n",
       "  </thead>\n",
       "  <tbody>\n",
       "    <tr>\n",
       "      <th>0</th>\n",
       "      <td>Alexis Sanchez</td>\n",
       "      <td>Arsenal</td>\n",
       "      <td>28</td>\n",
       "      <td>LW</td>\n",
       "      <td>1</td>\n",
       "      <td>65.0</td>\n",
       "      <td>4329</td>\n",
       "      <td>12.0</td>\n",
       "      <td>17.10%</td>\n",
       "      <td>264</td>\n",
       "      <td>3.0</td>\n",
       "      <td>Chile</td>\n",
       "      <td>0</td>\n",
       "      <td>4</td>\n",
       "      <td>1</td>\n",
       "      <td>1</td>\n",
       "      <td>0</td>\n",
       "    </tr>\n",
       "    <tr>\n",
       "      <th>1</th>\n",
       "      <td>Mesut Ozil</td>\n",
       "      <td>Arsenal</td>\n",
       "      <td>28</td>\n",
       "      <td>AM</td>\n",
       "      <td>1</td>\n",
       "      <td>50.0</td>\n",
       "      <td>4395</td>\n",
       "      <td>9.5</td>\n",
       "      <td>5.60%</td>\n",
       "      <td>167</td>\n",
       "      <td>2.0</td>\n",
       "      <td>Germany</td>\n",
       "      <td>0</td>\n",
       "      <td>4</td>\n",
       "      <td>1</td>\n",
       "      <td>1</td>\n",
       "      <td>0</td>\n",
       "    </tr>\n",
       "    <tr>\n",
       "      <th>2</th>\n",
       "      <td>Petr Cech</td>\n",
       "      <td>Arsenal</td>\n",
       "      <td>35</td>\n",
       "      <td>GK</td>\n",
       "      <td>4</td>\n",
       "      <td>7.0</td>\n",
       "      <td>1529</td>\n",
       "      <td>5.5</td>\n",
       "      <td>5.90%</td>\n",
       "      <td>134</td>\n",
       "      <td>2.0</td>\n",
       "      <td>Czech Republic</td>\n",
       "      <td>0</td>\n",
       "      <td>6</td>\n",
       "      <td>1</td>\n",
       "      <td>1</td>\n",
       "      <td>0</td>\n",
       "    </tr>\n",
       "    <tr>\n",
       "      <th>3</th>\n",
       "      <td>Theo Walcott</td>\n",
       "      <td>Arsenal</td>\n",
       "      <td>28</td>\n",
       "      <td>RW</td>\n",
       "      <td>1</td>\n",
       "      <td>20.0</td>\n",
       "      <td>2393</td>\n",
       "      <td>7.5</td>\n",
       "      <td>1.50%</td>\n",
       "      <td>122</td>\n",
       "      <td>1.0</td>\n",
       "      <td>England</td>\n",
       "      <td>0</td>\n",
       "      <td>4</td>\n",
       "      <td>1</td>\n",
       "      <td>1</td>\n",
       "      <td>0</td>\n",
       "    </tr>\n",
       "    <tr>\n",
       "      <th>4</th>\n",
       "      <td>Laurent Koscielny</td>\n",
       "      <td>Arsenal</td>\n",
       "      <td>31</td>\n",
       "      <td>CB</td>\n",
       "      <td>3</td>\n",
       "      <td>22.0</td>\n",
       "      <td>912</td>\n",
       "      <td>6.0</td>\n",
       "      <td>0.70%</td>\n",
       "      <td>121</td>\n",
       "      <td>2.0</td>\n",
       "      <td>France</td>\n",
       "      <td>0</td>\n",
       "      <td>4</td>\n",
       "      <td>1</td>\n",
       "      <td>1</td>\n",
       "      <td>0</td>\n",
       "    </tr>\n",
       "  </tbody>\n",
       "</table>\n",
       "</div>"
      ],
      "text/plain": [
       "                name     club  age position  position_cat  market_value  \\\n",
       "0     Alexis Sanchez  Arsenal   28       LW             1          65.0   \n",
       "1         Mesut Ozil  Arsenal   28       AM             1          50.0   \n",
       "2          Petr Cech  Arsenal   35       GK             4           7.0   \n",
       "3       Theo Walcott  Arsenal   28       RW             1          20.0   \n",
       "4  Laurent Koscielny  Arsenal   31       CB             3          22.0   \n",
       "\n",
       "   page_views  fpl_value fpl_sel  fpl_points  region     nationality  \\\n",
       "0        4329       12.0  17.10%         264     3.0           Chile   \n",
       "1        4395        9.5   5.60%         167     2.0         Germany   \n",
       "2        1529        5.5   5.90%         134     2.0  Czech Republic   \n",
       "3        2393        7.5   1.50%         122     1.0         England   \n",
       "4         912        6.0   0.70%         121     2.0          France   \n",
       "\n",
       "   new_foreign  age_cat  club_id  big_club  new_signing  \n",
       "0            0        4        1         1            0  \n",
       "1            0        4        1         1            0  \n",
       "2            0        6        1         1            0  \n",
       "3            0        4        1         1            0  \n",
       "4            0        4        1         1            0  "
      ]
     },
     "execution_count": 130,
     "metadata": {},
     "output_type": "execute_result"
    }
   ],
   "source": [
    "df.head()"
   ]
  },
  {
   "cell_type": "code",
   "execution_count": null,
   "id": "e86cc6e8",
   "metadata": {},
   "outputs": [],
   "source": []
  },
  {
   "cell_type": "markdown",
   "id": "a9678fcb",
   "metadata": {},
   "source": [
    "### EDA"
   ]
  },
  {
   "cell_type": "code",
   "execution_count": 131,
   "id": "d36b601d",
   "metadata": {},
   "outputs": [
    {
     "data": {
      "text/html": [
       "<div>\n",
       "<style scoped>\n",
       "    .dataframe tbody tr th:only-of-type {\n",
       "        vertical-align: middle;\n",
       "    }\n",
       "\n",
       "    .dataframe tbody tr th {\n",
       "        vertical-align: top;\n",
       "    }\n",
       "\n",
       "    .dataframe thead th {\n",
       "        text-align: right;\n",
       "    }\n",
       "</style>\n",
       "<table border=\"1\" class=\"dataframe\">\n",
       "  <thead>\n",
       "    <tr style=\"text-align: right;\">\n",
       "      <th></th>\n",
       "      <th>name</th>\n",
       "      <th>club</th>\n",
       "      <th>age</th>\n",
       "      <th>position</th>\n",
       "      <th>position_cat</th>\n",
       "      <th>market_value</th>\n",
       "      <th>page_views</th>\n",
       "      <th>fpl_value</th>\n",
       "      <th>fpl_sel</th>\n",
       "      <th>fpl_points</th>\n",
       "      <th>region</th>\n",
       "      <th>nationality</th>\n",
       "      <th>new_foreign</th>\n",
       "      <th>age_cat</th>\n",
       "      <th>club_id</th>\n",
       "      <th>big_club</th>\n",
       "      <th>new_signing</th>\n",
       "    </tr>\n",
       "  </thead>\n",
       "  <tbody>\n",
       "    <tr>\n",
       "      <th>381</th>\n",
       "      <td>Jan Vertonghen</td>\n",
       "      <td>Tottenham</td>\n",
       "      <td>30</td>\n",
       "      <td>CB</td>\n",
       "      <td>3</td>\n",
       "      <td>28.0</td>\n",
       "      <td>511</td>\n",
       "      <td>6.0</td>\n",
       "      <td>9.00%</td>\n",
       "      <td>126</td>\n",
       "      <td>2.0</td>\n",
       "      <td>Belgium</td>\n",
       "      <td>0</td>\n",
       "      <td>4</td>\n",
       "      <td>17</td>\n",
       "      <td>1</td>\n",
       "      <td>0</td>\n",
       "    </tr>\n",
       "    <tr>\n",
       "      <th>454</th>\n",
       "      <td>Angelo Ogbonna</td>\n",
       "      <td>West+Ham</td>\n",
       "      <td>29</td>\n",
       "      <td>CB</td>\n",
       "      <td>3</td>\n",
       "      <td>9.0</td>\n",
       "      <td>247</td>\n",
       "      <td>4.5</td>\n",
       "      <td>1.10%</td>\n",
       "      <td>45</td>\n",
       "      <td>2.0</td>\n",
       "      <td>Italy</td>\n",
       "      <td>0</td>\n",
       "      <td>4</td>\n",
       "      <td>20</td>\n",
       "      <td>0</td>\n",
       "      <td>0</td>\n",
       "    </tr>\n",
       "    <tr>\n",
       "      <th>447</th>\n",
       "      <td>Darren Randolph</td>\n",
       "      <td>West+Ham</td>\n",
       "      <td>30</td>\n",
       "      <td>GK</td>\n",
       "      <td>4</td>\n",
       "      <td>2.5</td>\n",
       "      <td>459</td>\n",
       "      <td>4.5</td>\n",
       "      <td>0.40%</td>\n",
       "      <td>69</td>\n",
       "      <td>2.0</td>\n",
       "      <td>Ireland</td>\n",
       "      <td>0</td>\n",
       "      <td>4</td>\n",
       "      <td>20</td>\n",
       "      <td>0</td>\n",
       "      <td>0</td>\n",
       "    </tr>\n",
       "    <tr>\n",
       "      <th>280</th>\n",
       "      <td>Sergio Romero</td>\n",
       "      <td>Manchester+United</td>\n",
       "      <td>30</td>\n",
       "      <td>GK</td>\n",
       "      <td>4</td>\n",
       "      <td>6.0</td>\n",
       "      <td>849</td>\n",
       "      <td>5.0</td>\n",
       "      <td>0.20%</td>\n",
       "      <td>23</td>\n",
       "      <td>3.0</td>\n",
       "      <td>Argentina</td>\n",
       "      <td>0</td>\n",
       "      <td>4</td>\n",
       "      <td>12</td>\n",
       "      <td>1</td>\n",
       "      <td>0</td>\n",
       "    </tr>\n",
       "    <tr>\n",
       "      <th>325</th>\n",
       "      <td>Josh Sims</td>\n",
       "      <td>Southampton</td>\n",
       "      <td>20</td>\n",
       "      <td>RW</td>\n",
       "      <td>1</td>\n",
       "      <td>0.5</td>\n",
       "      <td>126</td>\n",
       "      <td>4.5</td>\n",
       "      <td>0.10%</td>\n",
       "      <td>12</td>\n",
       "      <td>1.0</td>\n",
       "      <td>England</td>\n",
       "      <td>0</td>\n",
       "      <td>1</td>\n",
       "      <td>14</td>\n",
       "      <td>0</td>\n",
       "      <td>0</td>\n",
       "    </tr>\n",
       "    <tr>\n",
       "      <th>154</th>\n",
       "      <td>Dominic Calvert-Lewin</td>\n",
       "      <td>Everton</td>\n",
       "      <td>20</td>\n",
       "      <td>SS</td>\n",
       "      <td>1</td>\n",
       "      <td>3.5</td>\n",
       "      <td>343</td>\n",
       "      <td>5.0</td>\n",
       "      <td>0.30%</td>\n",
       "      <td>17</td>\n",
       "      <td>1.0</td>\n",
       "      <td>England</td>\n",
       "      <td>0</td>\n",
       "      <td>1</td>\n",
       "      <td>7</td>\n",
       "      <td>0</td>\n",
       "      <td>1</td>\n",
       "    </tr>\n",
       "    <tr>\n",
       "      <th>334</th>\n",
       "      <td>Ryan Shawcross</td>\n",
       "      <td>Stoke+City</td>\n",
       "      <td>29</td>\n",
       "      <td>CB</td>\n",
       "      <td>3</td>\n",
       "      <td>11.0</td>\n",
       "      <td>281</td>\n",
       "      <td>5.0</td>\n",
       "      <td>1.00%</td>\n",
       "      <td>94</td>\n",
       "      <td>2.0</td>\n",
       "      <td>England</td>\n",
       "      <td>0</td>\n",
       "      <td>4</td>\n",
       "      <td>15</td>\n",
       "      <td>0</td>\n",
       "      <td>0</td>\n",
       "    </tr>\n",
       "    <tr>\n",
       "      <th>306</th>\n",
       "      <td>Fraser Forster</td>\n",
       "      <td>Southampton</td>\n",
       "      <td>29</td>\n",
       "      <td>GK</td>\n",
       "      <td>4</td>\n",
       "      <td>15.0</td>\n",
       "      <td>548</td>\n",
       "      <td>5.0</td>\n",
       "      <td>7.30%</td>\n",
       "      <td>134</td>\n",
       "      <td>1.0</td>\n",
       "      <td>England</td>\n",
       "      <td>0</td>\n",
       "      <td>4</td>\n",
       "      <td>14</td>\n",
       "      <td>0</td>\n",
       "      <td>0</td>\n",
       "    </tr>\n",
       "    <tr>\n",
       "      <th>122</th>\n",
       "      <td>Scott Dann</td>\n",
       "      <td>Crystal+Palace</td>\n",
       "      <td>30</td>\n",
       "      <td>CB</td>\n",
       "      <td>3</td>\n",
       "      <td>5.0</td>\n",
       "      <td>217</td>\n",
       "      <td>5.0</td>\n",
       "      <td>1.10%</td>\n",
       "      <td>61</td>\n",
       "      <td>1.0</td>\n",
       "      <td>England</td>\n",
       "      <td>0</td>\n",
       "      <td>4</td>\n",
       "      <td>6</td>\n",
       "      <td>0</td>\n",
       "      <td>0</td>\n",
       "    </tr>\n",
       "    <tr>\n",
       "      <th>310</th>\n",
       "      <td>Cedric Soares</td>\n",
       "      <td>Southampton</td>\n",
       "      <td>25</td>\n",
       "      <td>RB</td>\n",
       "      <td>3</td>\n",
       "      <td>15.0</td>\n",
       "      <td>338</td>\n",
       "      <td>5.0</td>\n",
       "      <td>16.40%</td>\n",
       "      <td>102</td>\n",
       "      <td>2.0</td>\n",
       "      <td>Portugal</td>\n",
       "      <td>0</td>\n",
       "      <td>3</td>\n",
       "      <td>14</td>\n",
       "      <td>0</td>\n",
       "      <td>0</td>\n",
       "    </tr>\n",
       "  </tbody>\n",
       "</table>\n",
       "</div>"
      ],
      "text/plain": [
       "                      name               club  age position  position_cat  \\\n",
       "381         Jan Vertonghen          Tottenham   30       CB             3   \n",
       "454         Angelo Ogbonna           West+Ham   29       CB             3   \n",
       "447        Darren Randolph           West+Ham   30       GK             4   \n",
       "280          Sergio Romero  Manchester+United   30       GK             4   \n",
       "325              Josh Sims        Southampton   20       RW             1   \n",
       "154  Dominic Calvert-Lewin            Everton   20       SS             1   \n",
       "334         Ryan Shawcross         Stoke+City   29       CB             3   \n",
       "306         Fraser Forster        Southampton   29       GK             4   \n",
       "122             Scott Dann     Crystal+Palace   30       CB             3   \n",
       "310          Cedric Soares        Southampton   25       RB             3   \n",
       "\n",
       "     market_value  page_views  fpl_value fpl_sel  fpl_points  region  \\\n",
       "381          28.0         511        6.0   9.00%         126     2.0   \n",
       "454           9.0         247        4.5   1.10%          45     2.0   \n",
       "447           2.5         459        4.5   0.40%          69     2.0   \n",
       "280           6.0         849        5.0   0.20%          23     3.0   \n",
       "325           0.5         126        4.5   0.10%          12     1.0   \n",
       "154           3.5         343        5.0   0.30%          17     1.0   \n",
       "334          11.0         281        5.0   1.00%          94     2.0   \n",
       "306          15.0         548        5.0   7.30%         134     1.0   \n",
       "122           5.0         217        5.0   1.10%          61     1.0   \n",
       "310          15.0         338        5.0  16.40%         102     2.0   \n",
       "\n",
       "    nationality  new_foreign  age_cat  club_id  big_club  new_signing  \n",
       "381     Belgium            0        4       17         1            0  \n",
       "454       Italy            0        4       20         0            0  \n",
       "447     Ireland            0        4       20         0            0  \n",
       "280   Argentina            0        4       12         1            0  \n",
       "325     England            0        1       14         0            0  \n",
       "154     England            0        1        7         0            1  \n",
       "334     England            0        4       15         0            0  \n",
       "306     England            0        4       14         0            0  \n",
       "122     England            0        4        6         0            0  \n",
       "310    Portugal            0        3       14         0            0  "
      ]
     },
     "execution_count": 131,
     "metadata": {},
     "output_type": "execute_result"
    }
   ],
   "source": [
    "df.sample(10)"
   ]
  },
  {
   "cell_type": "code",
   "execution_count": 132,
   "id": "24690829",
   "metadata": {},
   "outputs": [
    {
     "name": "stdout",
     "output_type": "stream",
     "text": [
      "<class 'pandas.core.frame.DataFrame'>\n",
      "RangeIndex: 461 entries, 0 to 460\n",
      "Data columns (total 17 columns):\n",
      " #   Column        Non-Null Count  Dtype  \n",
      "---  ------        --------------  -----  \n",
      " 0   name          461 non-null    object \n",
      " 1   club          461 non-null    object \n",
      " 2   age           461 non-null    int64  \n",
      " 3   position      461 non-null    object \n",
      " 4   position_cat  461 non-null    int64  \n",
      " 5   market_value  461 non-null    float64\n",
      " 6   page_views    461 non-null    int64  \n",
      " 7   fpl_value     461 non-null    float64\n",
      " 8   fpl_sel       461 non-null    object \n",
      " 9   fpl_points    461 non-null    int64  \n",
      " 10  region        460 non-null    float64\n",
      " 11  nationality   461 non-null    object \n",
      " 12  new_foreign   461 non-null    int64  \n",
      " 13  age_cat       461 non-null    int64  \n",
      " 14  club_id       461 non-null    int64  \n",
      " 15  big_club      461 non-null    int64  \n",
      " 16  new_signing   461 non-null    int64  \n",
      "dtypes: float64(3), int64(9), object(5)\n",
      "memory usage: 61.4+ KB\n"
     ]
    }
   ],
   "source": [
    "df.info()"
   ]
  },
  {
   "cell_type": "code",
   "execution_count": 133,
   "id": "bfd0892c",
   "metadata": {},
   "outputs": [],
   "source": [
    "# one null present in region \n",
    "# dropping the null row"
   ]
  },
  {
   "cell_type": "code",
   "execution_count": 134,
   "id": "994c8af5",
   "metadata": {},
   "outputs": [],
   "source": [
    "df = df.dropna()"
   ]
  },
  {
   "cell_type": "code",
   "execution_count": 135,
   "id": "171a68ef",
   "metadata": {},
   "outputs": [
    {
     "name": "stdout",
     "output_type": "stream",
     "text": [
      "<class 'pandas.core.frame.DataFrame'>\n",
      "Index: 460 entries, 0 to 460\n",
      "Data columns (total 17 columns):\n",
      " #   Column        Non-Null Count  Dtype  \n",
      "---  ------        --------------  -----  \n",
      " 0   name          460 non-null    object \n",
      " 1   club          460 non-null    object \n",
      " 2   age           460 non-null    int64  \n",
      " 3   position      460 non-null    object \n",
      " 4   position_cat  460 non-null    int64  \n",
      " 5   market_value  460 non-null    float64\n",
      " 6   page_views    460 non-null    int64  \n",
      " 7   fpl_value     460 non-null    float64\n",
      " 8   fpl_sel       460 non-null    object \n",
      " 9   fpl_points    460 non-null    int64  \n",
      " 10  region        460 non-null    float64\n",
      " 11  nationality   460 non-null    object \n",
      " 12  new_foreign   460 non-null    int64  \n",
      " 13  age_cat       460 non-null    int64  \n",
      " 14  club_id       460 non-null    int64  \n",
      " 15  big_club      460 non-null    int64  \n",
      " 16  new_signing   460 non-null    int64  \n",
      "dtypes: float64(3), int64(9), object(5)\n",
      "memory usage: 64.7+ KB\n"
     ]
    }
   ],
   "source": [
    "df.info()"
   ]
  },
  {
   "cell_type": "code",
   "execution_count": 136,
   "id": "72201c45",
   "metadata": {},
   "outputs": [
    {
     "data": {
      "text/plain": [
       "region\n",
       "2.0    207\n",
       "1.0    156\n",
       "4.0     56\n",
       "3.0     41\n",
       "Name: count, dtype: int64"
      ]
     },
     "execution_count": 136,
     "metadata": {},
     "output_type": "execute_result"
    }
   ],
   "source": [
    "df[\"region\"].value_counts()"
   ]
  },
  {
   "cell_type": "code",
   "execution_count": 137,
   "id": "d621a3ea",
   "metadata": {},
   "outputs": [
    {
     "data": {
      "text/plain": [
       "nationality\n",
       "England                156\n",
       "Spain                   28\n",
       "France                  25\n",
       "Netherlands             20\n",
       "Belgium                 18\n",
       "Ireland                 17\n",
       "Argentina               17\n",
       "Germany                 16\n",
       "Scotland                14\n",
       "Wales                   12\n",
       "Brazil                  12\n",
       "Senegal                  7\n",
       "Portugal                 6\n",
       "Northern Ireland         6\n",
       "Nigeria                  6\n",
       "Denmark                  6\n",
       "Ghana                    5\n",
       "Serbia                   5\n",
       "Congo DR                 4\n",
       "Australia                4\n",
       "Cote d'Ivoire            4\n",
       "Switzerland              4\n",
       "Austria                  4\n",
       "Egypt                    4\n",
       "Italy                    4\n",
       "Algeria                  3\n",
       "South Korea              3\n",
       "Poland                   3\n",
       "Cameroon                 3\n",
       "Sweden                   3\n",
       "United States            2\n",
       "Jamaica                  2\n",
       "Japan                    2\n",
       "Morocco                  2\n",
       "Ecuador                  2\n",
       "Chile                    2\n",
       "Bosnia                   2\n",
       "Iceland                  2\n",
       "Israel                   2\n",
       "Czech Republic           2\n",
       "Mali                     2\n",
       "Curacao                  1\n",
       "Venezuela                1\n",
       "Romania                  1\n",
       "Uruguay                  1\n",
       "Greece                   1\n",
       "Kenya                    1\n",
       "The Gambia               1\n",
       "Colombia                 1\n",
       "Armenia                  1\n",
       "Norway                   1\n",
       "Finland                  1\n",
       "Estonia                  1\n",
       "Croatia                  1\n",
       "Tunisia                  1\n",
       "Canada                   1\n",
       "Bermuda                  1\n",
       "Trinidad and Tobago      1\n",
       "Slovenia                 1\n",
       "New Zealand              1\n",
       "Name: count, dtype: int64"
      ]
     },
     "execution_count": 137,
     "metadata": {},
     "output_type": "execute_result"
    }
   ],
   "source": [
    "df[\"nationality\"].value_counts()"
   ]
  },
  {
   "cell_type": "code",
   "execution_count": 138,
   "id": "a58b852b",
   "metadata": {},
   "outputs": [
    {
     "data": {
      "text/plain": [
       "club\n",
       "Arsenal              28\n",
       "Everton              28\n",
       "Huddersfield         27\n",
       "Liverpool            27\n",
       "Manchester+United    25\n",
       "Swansea              25\n",
       "Watford              24\n",
       "Leicester+City       24\n",
       "Bournemouth          24\n",
       "Southampton          23\n",
       "Stoke+City           22\n",
       "West+Ham             22\n",
       "Brighton+and+Hove    22\n",
       "Newcastle+United     21\n",
       "Crystal+Palace       21\n",
       "Chelsea              20\n",
       "Tottenham            20\n",
       "Manchester+City      20\n",
       "West+Brom            19\n",
       "Burnley              18\n",
       "Name: count, dtype: int64"
      ]
     },
     "execution_count": 138,
     "metadata": {},
     "output_type": "execute_result"
    }
   ],
   "source": [
    "df[\"club\"].value_counts()"
   ]
  },
  {
   "cell_type": "code",
   "execution_count": 139,
   "id": "89f4828f",
   "metadata": {},
   "outputs": [
    {
     "data": {
      "text/plain": [
       "club_id\n",
       "1     28\n",
       "7     28\n",
       "8     27\n",
       "10    27\n",
       "12    25\n",
       "16    25\n",
       "18    24\n",
       "9     24\n",
       "2     24\n",
       "14    23\n",
       "15    22\n",
       "20    22\n",
       "3     22\n",
       "13    21\n",
       "6     21\n",
       "5     20\n",
       "17    20\n",
       "11    20\n",
       "19    19\n",
       "4     18\n",
       "Name: count, dtype: int64"
      ]
     },
     "execution_count": 139,
     "metadata": {},
     "output_type": "execute_result"
    }
   ],
   "source": [
    "df[\"club_id\"].value_counts()"
   ]
  },
  {
   "cell_type": "code",
   "execution_count": 140,
   "id": "1da88db4",
   "metadata": {},
   "outputs": [
    {
     "data": {
      "text/plain": [
       "new_foreign\n",
       "0    444\n",
       "1     16\n",
       "Name: count, dtype: int64"
      ]
     },
     "execution_count": 140,
     "metadata": {},
     "output_type": "execute_result"
    }
   ],
   "source": [
    "df[\"new_foreign\"].value_counts()"
   ]
  },
  {
   "cell_type": "code",
   "execution_count": 141,
   "id": "a9a51706",
   "metadata": {},
   "outputs": [
    {
     "data": {
      "text/plain": [
       "new_signing\n",
       "0    393\n",
       "1     67\n",
       "Name: count, dtype: int64"
      ]
     },
     "execution_count": 141,
     "metadata": {},
     "output_type": "execute_result"
    }
   ],
   "source": [
    "df[\"new_signing\"].value_counts()"
   ]
  },
  {
   "cell_type": "code",
   "execution_count": 142,
   "id": "6f4f7449",
   "metadata": {},
   "outputs": [
    {
     "data": {
      "text/plain": [
       "big_club\n",
       "0    320\n",
       "1    140\n",
       "Name: count, dtype: int64"
      ]
     },
     "execution_count": 142,
     "metadata": {},
     "output_type": "execute_result"
    }
   ],
   "source": [
    "df[\"big_club\"].value_counts()"
   ]
  },
  {
   "cell_type": "code",
   "execution_count": 143,
   "id": "4c044ec7",
   "metadata": {},
   "outputs": [
    {
     "data": {
      "text/plain": [
       "position\n",
       "CB    85\n",
       "CM    63\n",
       "CF    60\n",
       "GK    42\n",
       "LW    36\n",
       "DM    36\n",
       "LB    35\n",
       "RB    34\n",
       "RW    32\n",
       "AM    17\n",
       "LM     8\n",
       "SS     7\n",
       "RM     5\n",
       "Name: count, dtype: int64"
      ]
     },
     "execution_count": 143,
     "metadata": {},
     "output_type": "execute_result"
    }
   ],
   "source": [
    "df[\"position\"].value_counts()"
   ]
  },
  {
   "cell_type": "code",
   "execution_count": 144,
   "id": "0a0be920",
   "metadata": {},
   "outputs": [
    {
     "data": {
      "text/plain": [
       "position_cat\n",
       "1    153\n",
       "3    153\n",
       "2    112\n",
       "4     42\n",
       "Name: count, dtype: int64"
      ]
     },
     "execution_count": 144,
     "metadata": {},
     "output_type": "execute_result"
    }
   ],
   "source": [
    "df[\"position_cat\"].value_counts()"
   ]
  },
  {
   "cell_type": "code",
   "execution_count": 145,
   "id": "b01162cb",
   "metadata": {},
   "outputs": [
    {
     "data": {
      "text/plain": [
       "154"
      ]
     },
     "execution_count": 145,
     "metadata": {},
     "output_type": "execute_result"
    }
   ],
   "source": [
    "85 + 35 + 34"
   ]
  },
  {
   "cell_type": "code",
   "execution_count": 146,
   "id": "4730a9e0",
   "metadata": {},
   "outputs": [
    {
     "data": {
      "text/html": [
       "<div>\n",
       "<style scoped>\n",
       "    .dataframe tbody tr th:only-of-type {\n",
       "        vertical-align: middle;\n",
       "    }\n",
       "\n",
       "    .dataframe tbody tr th {\n",
       "        vertical-align: top;\n",
       "    }\n",
       "\n",
       "    .dataframe thead th {\n",
       "        text-align: right;\n",
       "    }\n",
       "</style>\n",
       "<table border=\"1\" class=\"dataframe\">\n",
       "  <thead>\n",
       "    <tr style=\"text-align: right;\">\n",
       "      <th></th>\n",
       "      <th>market_value</th>\n",
       "    </tr>\n",
       "  </thead>\n",
       "  <tbody>\n",
       "    <tr>\n",
       "      <th>age</th>\n",
       "      <td>-0.133828</td>\n",
       "    </tr>\n",
       "    <tr>\n",
       "      <th>position_cat</th>\n",
       "      <td>-0.219174</td>\n",
       "    </tr>\n",
       "    <tr>\n",
       "      <th>market_value</th>\n",
       "      <td>1.000000</td>\n",
       "    </tr>\n",
       "    <tr>\n",
       "      <th>page_views</th>\n",
       "      <td>0.739540</td>\n",
       "    </tr>\n",
       "    <tr>\n",
       "      <th>fpl_value</th>\n",
       "      <td>0.789373</td>\n",
       "    </tr>\n",
       "    <tr>\n",
       "      <th>fpl_points</th>\n",
       "      <td>0.615013</td>\n",
       "    </tr>\n",
       "    <tr>\n",
       "      <th>region</th>\n",
       "      <td>0.101659</td>\n",
       "    </tr>\n",
       "    <tr>\n",
       "      <th>new_foreign</th>\n",
       "      <td>0.097896</td>\n",
       "    </tr>\n",
       "    <tr>\n",
       "      <th>age_cat</th>\n",
       "      <td>-0.118746</td>\n",
       "    </tr>\n",
       "    <tr>\n",
       "      <th>club_id</th>\n",
       "      <td>-0.046486</td>\n",
       "    </tr>\n",
       "    <tr>\n",
       "      <th>big_club</th>\n",
       "      <td>0.593249</td>\n",
       "    </tr>\n",
       "    <tr>\n",
       "      <th>new_signing</th>\n",
       "      <td>0.130970</td>\n",
       "    </tr>\n",
       "  </tbody>\n",
       "</table>\n",
       "</div>"
      ],
      "text/plain": [
       "              market_value\n",
       "age              -0.133828\n",
       "position_cat     -0.219174\n",
       "market_value      1.000000\n",
       "page_views        0.739540\n",
       "fpl_value         0.789373\n",
       "fpl_points        0.615013\n",
       "region            0.101659\n",
       "new_foreign       0.097896\n",
       "age_cat          -0.118746\n",
       "club_id          -0.046486\n",
       "big_club          0.593249\n",
       "new_signing       0.130970"
      ]
     },
     "execution_count": 146,
     "metadata": {},
     "output_type": "execute_result"
    }
   ],
   "source": [
    "df.corr(numeric_only=True)[[\"market_value\"]]"
   ]
  },
  {
   "cell_type": "code",
   "execution_count": null,
   "id": "c5814553",
   "metadata": {},
   "outputs": [],
   "source": []
  },
  {
   "cell_type": "code",
   "execution_count": 147,
   "id": "b789f8f3",
   "metadata": {},
   "outputs": [
    {
     "data": {
      "text/plain": [
       "Text(0.5, 1.0, 'Correlation')"
      ]
     },
     "execution_count": 147,
     "metadata": {},
     "output_type": "execute_result"
    },
    {
     "data": {
      "image/png": "[encoded data removed]",
      "text/plain": [
       "<Figure size 1000x500 with 2 Axes>"
      ]
     },
     "metadata": {},
     "output_type": "display_data"
    }
   ],
   "source": [
    "plt.figure(figsize=(10,5))\n",
    "sns.heatmap(df.corr(numeric_only=True),annot=True,vmin=-1,vmax=1)\n",
    "plt.title(\"Correlation\")"
   ]
  },
  {
   "cell_type": "code",
   "execution_count": 148,
   "id": "41bdebbe",
   "metadata": {},
   "outputs": [],
   "source": [
    "# Correlation of independent variables with dependent variables."
   ]
  },
  {
   "cell_type": "code",
   "execution_count": 149,
   "id": "c4aeadbc",
   "metadata": {},
   "outputs": [
    {
     "data": {
      "text/plain": [
       "Text(0.5, 1.0, 'Correlation')"
      ]
     },
     "execution_count": 149,
     "metadata": {},
     "output_type": "execute_result"
    },
    {
     "data": {
      "image/png": "[encoded data removed]",
      "text/plain": [
       "<Figure size 100x500 with 2 Axes>"
      ]
     },
     "metadata": {},
     "output_type": "display_data"
    }
   ],
   "source": [
    "plt.figure(figsize=(1,5))\n",
    "sns.heatmap(df.corr(numeric_only=True)[[\"market_value\"]],annot=True,vmin=-1,vmax=1)\n",
    "plt.title(\"Correlation\")"
   ]
  },
  {
   "cell_type": "code",
   "execution_count": 150,
   "id": "2b605133",
   "metadata": {},
   "outputs": [],
   "source": [
    "# does position category has realtion with market value"
   ]
  },
  {
   "cell_type": "code",
   "execution_count": 151,
   "id": "acbf88f7",
   "metadata": {},
   "outputs": [
    {
     "name": "stderr",
     "output_type": "stream",
     "text": [
      "C:\\Users\\Abhishek\\AppData\\Local\\Programs\\Python\\Python310\\lib\\site-packages\\seaborn\\_oldcore.py:1498: FutureWarning: is_categorical_dtype is deprecated and will be removed in a future version. Use isinstance(dtype, CategoricalDtype) instead\n",
      "  if pd.api.types.is_categorical_dtype(vector):\n",
      "C:\\Users\\Abhishek\\AppData\\Local\\Programs\\Python\\Python310\\lib\\site-packages\\seaborn\\_oldcore.py:1498: FutureWarning: is_categorical_dtype is deprecated and will be removed in a future version. Use isinstance(dtype, CategoricalDtype) instead\n",
      "  if pd.api.types.is_categorical_dtype(vector):\n",
      "C:\\Users\\Abhishek\\AppData\\Local\\Programs\\Python\\Python310\\lib\\site-packages\\seaborn\\_oldcore.py:1498: FutureWarning: is_categorical_dtype is deprecated and will be removed in a future version. Use isinstance(dtype, CategoricalDtype) instead\n",
      "  if pd.api.types.is_categorical_dtype(vector):\n",
      "C:\\Users\\Abhishek\\AppData\\Local\\Programs\\Python\\Python310\\lib\\site-packages\\seaborn\\_oldcore.py:1498: FutureWarning: is_categorical_dtype is deprecated and will be removed in a future version. Use isinstance(dtype, CategoricalDtype) instead\n",
      "  if pd.api.types.is_categorical_dtype(vector):\n"
     ]
    },
    {
     "data": {
      "text/plain": [
       "<Axes: xlabel='position', ylabel='market_value'>"
      ]
     },
     "execution_count": 151,
     "metadata": {},
     "output_type": "execute_result"
    },
    {
     "data": {
      "image/png": "[encoded data removed]",
      "text/plain": [
       "<Figure size 640x480 with 1 Axes>"
      ]
     },
     "metadata": {},
     "output_type": "display_data"
    }
   ],
   "source": [
    "sns.scatterplot(df,x = \"position\",y = \"market_value\", hue = \"position_cat\")"
   ]
  },
  {
   "cell_type": "code",
   "execution_count": 152,
   "id": "d9295b5b",
   "metadata": {},
   "outputs": [
    {
     "name": "stderr",
     "output_type": "stream",
     "text": [
      "C:\\Users\\Abhishek\\AppData\\Local\\Programs\\Python\\Python310\\lib\\site-packages\\seaborn\\_oldcore.py:1498: FutureWarning: is_categorical_dtype is deprecated and will be removed in a future version. Use isinstance(dtype, CategoricalDtype) instead\n",
      "  if pd.api.types.is_categorical_dtype(vector):\n",
      "C:\\Users\\Abhishek\\AppData\\Local\\Programs\\Python\\Python310\\lib\\site-packages\\seaborn\\_oldcore.py:1498: FutureWarning: is_categorical_dtype is deprecated and will be removed in a future version. Use isinstance(dtype, CategoricalDtype) instead\n",
      "  if pd.api.types.is_categorical_dtype(vector):\n"
     ]
    },
    {
     "data": {
      "text/plain": [
       "<Axes: xlabel='position_cat', ylabel='market_value'>"
      ]
     },
     "execution_count": 152,
     "metadata": {},
     "output_type": "execute_result"
    },
    {
     "data": {
      "image/png": "[encoded data removed]",
      "text/plain": [
       "<Figure size 640x480 with 1 Axes>"
      ]
     },
     "metadata": {},
     "output_type": "display_data"
    }
   ],
   "source": [
    "sns.scatterplot(df,x = \"position_cat\",y = \"market_value\" )"
   ]
  },
  {
   "cell_type": "markdown",
   "id": "90c5771a",
   "metadata": {},
   "source": [
    "###  Feature Engineering"
   ]
  },
  {
   "cell_type": "code",
   "execution_count": 153,
   "id": "f0ef0e72",
   "metadata": {},
   "outputs": [],
   "source": [
    "# gathering those columns which are required for analysis."
   ]
  },
  {
   "cell_type": "code",
   "execution_count": 154,
   "id": "cbc77cae",
   "metadata": {},
   "outputs": [],
   "source": [
    "# to drop columns\n",
    "# name ,age , position_cat , nationality, club_id"
   ]
  },
  {
   "cell_type": "code",
   "execution_count": 155,
   "id": "8bc664c2",
   "metadata": {},
   "outputs": [
    {
     "data": {
      "text/html": [
       "<div>\n",
       "<style scoped>\n",
       "    .dataframe tbody tr th:only-of-type {\n",
       "        vertical-align: middle;\n",
       "    }\n",
       "\n",
       "    .dataframe tbody tr th {\n",
       "        vertical-align: top;\n",
       "    }\n",
       "\n",
       "    .dataframe thead th {\n",
       "        text-align: right;\n",
       "    }\n",
       "</style>\n",
       "<table border=\"1\" class=\"dataframe\">\n",
       "  <thead>\n",
       "    <tr style=\"text-align: right;\">\n",
       "      <th></th>\n",
       "      <th>club</th>\n",
       "      <th>position</th>\n",
       "      <th>market_value</th>\n",
       "      <th>page_views</th>\n",
       "      <th>fpl_value</th>\n",
       "      <th>fpl_sel</th>\n",
       "      <th>fpl_points</th>\n",
       "      <th>region</th>\n",
       "      <th>new_foreign</th>\n",
       "      <th>age_cat</th>\n",
       "      <th>big_club</th>\n",
       "      <th>new_signing</th>\n",
       "    </tr>\n",
       "  </thead>\n",
       "  <tbody>\n",
       "    <tr>\n",
       "      <th>0</th>\n",
       "      <td>Arsenal</td>\n",
       "      <td>LW</td>\n",
       "      <td>65.0</td>\n",
       "      <td>4329</td>\n",
       "      <td>12.0</td>\n",
       "      <td>17.10%</td>\n",
       "      <td>264</td>\n",
       "      <td>3.0</td>\n",
       "      <td>0</td>\n",
       "      <td>4</td>\n",
       "      <td>1</td>\n",
       "      <td>0</td>\n",
       "    </tr>\n",
       "    <tr>\n",
       "      <th>1</th>\n",
       "      <td>Arsenal</td>\n",
       "      <td>AM</td>\n",
       "      <td>50.0</td>\n",
       "      <td>4395</td>\n",
       "      <td>9.5</td>\n",
       "      <td>5.60%</td>\n",
       "      <td>167</td>\n",
       "      <td>2.0</td>\n",
       "      <td>0</td>\n",
       "      <td>4</td>\n",
       "      <td>1</td>\n",
       "      <td>0</td>\n",
       "    </tr>\n",
       "    <tr>\n",
       "      <th>2</th>\n",
       "      <td>Arsenal</td>\n",
       "      <td>GK</td>\n",
       "      <td>7.0</td>\n",
       "      <td>1529</td>\n",
       "      <td>5.5</td>\n",
       "      <td>5.90%</td>\n",
       "      <td>134</td>\n",
       "      <td>2.0</td>\n",
       "      <td>0</td>\n",
       "      <td>6</td>\n",
       "      <td>1</td>\n",
       "      <td>0</td>\n",
       "    </tr>\n",
       "    <tr>\n",
       "      <th>3</th>\n",
       "      <td>Arsenal</td>\n",
       "      <td>RW</td>\n",
       "      <td>20.0</td>\n",
       "      <td>2393</td>\n",
       "      <td>7.5</td>\n",
       "      <td>1.50%</td>\n",
       "      <td>122</td>\n",
       "      <td>1.0</td>\n",
       "      <td>0</td>\n",
       "      <td>4</td>\n",
       "      <td>1</td>\n",
       "      <td>0</td>\n",
       "    </tr>\n",
       "    <tr>\n",
       "      <th>4</th>\n",
       "      <td>Arsenal</td>\n",
       "      <td>CB</td>\n",
       "      <td>22.0</td>\n",
       "      <td>912</td>\n",
       "      <td>6.0</td>\n",
       "      <td>0.70%</td>\n",
       "      <td>121</td>\n",
       "      <td>2.0</td>\n",
       "      <td>0</td>\n",
       "      <td>4</td>\n",
       "      <td>1</td>\n",
       "      <td>0</td>\n",
       "    </tr>\n",
       "  </tbody>\n",
       "</table>\n",
       "</div>"
      ],
      "text/plain": [
       "      club position  market_value  page_views  fpl_value fpl_sel  fpl_points  \\\n",
       "0  Arsenal       LW          65.0        4329       12.0  17.10%         264   \n",
       "1  Arsenal       AM          50.0        4395        9.5   5.60%         167   \n",
       "2  Arsenal       GK           7.0        1529        5.5   5.90%         134   \n",
       "3  Arsenal       RW          20.0        2393        7.5   1.50%         122   \n",
       "4  Arsenal       CB          22.0         912        6.0   0.70%         121   \n",
       "\n",
       "   region  new_foreign  age_cat  big_club  new_signing  \n",
       "0     3.0            0        4         1            0  \n",
       "1     2.0            0        4         1            0  \n",
       "2     2.0            0        6         1            0  \n",
       "3     1.0            0        4         1            0  \n",
       "4     2.0            0        4         1            0  "
      ]
     },
     "execution_count": 155,
     "metadata": {},
     "output_type": "execute_result"
    }
   ],
   "source": [
    "new_df = df.drop([\"name\",\"age\",\"position_cat\",\"nationality\",\"club_id\"],axis = 1)\n",
    "new_df.head()"
   ]
  },
  {
   "cell_type": "code",
   "execution_count": null,
   "id": "07f42619",
   "metadata": {},
   "outputs": [],
   "source": []
  },
  {
   "cell_type": "code",
   "execution_count": 156,
   "id": "9b73c936",
   "metadata": {},
   "outputs": [],
   "source": [
    "# fpl_sel is an object it has percentage sign \n",
    "# converting it to int."
   ]
  },
  {
   "cell_type": "code",
   "execution_count": 157,
   "id": "0648e11b",
   "metadata": {},
   "outputs": [],
   "source": [
    "new_df[\"fpl_sel\"] = new_df[\"fpl_sel\"].str.replace(\"%\",\"\")  # replacing \"%\" with \"\""
   ]
  },
  {
   "cell_type": "code",
   "execution_count": 158,
   "id": "5161f993",
   "metadata": {},
   "outputs": [],
   "source": [
    "new_df[\"fpl_sel\"] = new_df[\"fpl_sel\"].astype(float)"
   ]
  },
  {
   "cell_type": "code",
   "execution_count": 159,
   "id": "26293178",
   "metadata": {},
   "outputs": [
    {
     "name": "stdout",
     "output_type": "stream",
     "text": [
      "<class 'pandas.core.series.Series'>\n",
      "Index: 460 entries, 0 to 460\n",
      "Series name: fpl_sel\n",
      "Non-Null Count  Dtype  \n",
      "--------------  -----  \n",
      "460 non-null    float64\n",
      "dtypes: float64(1)\n",
      "memory usage: 7.2 KB\n"
     ]
    }
   ],
   "source": [
    "new_df[\"fpl_sel\"].info()"
   ]
  },
  {
   "cell_type": "code",
   "execution_count": 160,
   "id": "6c474677",
   "metadata": {},
   "outputs": [
    {
     "name": "stdout",
     "output_type": "stream",
     "text": [
      "<class 'pandas.core.frame.DataFrame'>\n",
      "Index: 460 entries, 0 to 460\n",
      "Data columns (total 12 columns):\n",
      " #   Column        Non-Null Count  Dtype  \n",
      "---  ------        --------------  -----  \n",
      " 0   club          460 non-null    object \n",
      " 1   position      460 non-null    object \n",
      " 2   market_value  460 non-null    float64\n",
      " 3   page_views    460 non-null    int64  \n",
      " 4   fpl_value     460 non-null    float64\n",
      " 5   fpl_sel       460 non-null    float64\n",
      " 6   fpl_points    460 non-null    int64  \n",
      " 7   region        460 non-null    float64\n",
      " 8   new_foreign   460 non-null    int64  \n",
      " 9   age_cat       460 non-null    int64  \n",
      " 10  big_club      460 non-null    int64  \n",
      " 11  new_signing   460 non-null    int64  \n",
      "dtypes: float64(4), int64(6), object(2)\n",
      "memory usage: 46.7+ KB\n"
     ]
    }
   ],
   "source": [
    "new_df.info()"
   ]
  },
  {
   "cell_type": "code",
   "execution_count": null,
   "id": "f5937ea8",
   "metadata": {},
   "outputs": [],
   "source": []
  },
  {
   "cell_type": "code",
   "execution_count": 161,
   "id": "055fbc1f",
   "metadata": {},
   "outputs": [],
   "source": [
    "# boxplot to check outliers."
   ]
  },
  {
   "cell_type": "code",
   "execution_count": 162,
   "id": "1c207211",
   "metadata": {},
   "outputs": [
    {
     "data": {
      "text/plain": [
       "<Axes: >"
      ]
     },
     "execution_count": 162,
     "metadata": {},
     "output_type": "execute_result"
    },
    {
     "data": {
      "image/png": "[encoded data removed]",
      "text/plain": [
       "<Figure size 640x480 with 1 Axes>"
      ]
     },
     "metadata": {},
     "output_type": "display_data"
    }
   ],
   "source": [
    "sns.boxplot()"
   ]
  },
  {
   "cell_type": "markdown",
   "id": "ec14aa12",
   "metadata": {},
   "source": [
    "### Model Building"
   ]
  },
  {
   "cell_type": "code",
   "execution_count": 163,
   "id": "5877e071",
   "metadata": {},
   "outputs": [],
   "source": [
    "# train test split\n",
    "x = new_df.drop([\"market_value\"],axis =1)\n",
    "y = new_df[\"market_value\"]"
   ]
  },
  {
   "cell_type": "code",
   "execution_count": 164,
   "id": "ef12a3da",
   "metadata": {},
   "outputs": [],
   "source": [
    "x_train,x_test,y_train,y_test = train_test_split(x,y,test_size=0.2,random_state=4)"
   ]
  },
  {
   "cell_type": "code",
   "execution_count": 165,
   "id": "d813328d",
   "metadata": {},
   "outputs": [],
   "source": [
    "from sklearn.preprocessing import OneHotEncoder"
   ]
  },
  {
   "cell_type": "code",
   "execution_count": 166,
   "id": "7eb80437",
   "metadata": {},
   "outputs": [],
   "source": [
    "ohe = OneHotEncoder()"
   ]
  },
  {
   "cell_type": "code",
   "execution_count": 167,
   "id": "33d5c1b5",
   "metadata": {},
   "outputs": [
    {
     "data": {
      "text/plain": [
       "Index(['club', 'position', 'page_views', 'fpl_value', 'fpl_sel', 'fpl_points',\n",
       "       'region', 'new_foreign', 'age_cat', 'big_club', 'new_signing'],\n",
       "      dtype='object')"
      ]
     },
     "execution_count": 167,
     "metadata": {},
     "output_type": "execute_result"
    }
   ],
   "source": [
    "x.columns"
   ]
  },
  {
   "cell_type": "code",
   "execution_count": 168,
   "id": "81d4fa78",
   "metadata": {},
   "outputs": [
    {
     "data": {
      "text/html": [
       "<style>#sk-container-id-4 {color: black;}#sk-container-id-4 pre{padding: 0;}#sk-container-id-4 div.sk-toggleable {background-color: white;}#sk-container-id-4 label.sk-toggleable__label {cursor: pointer;display: block;width: 100%;margin-bottom: 0;padding: 0.3em;box-sizing: border-box;text-align: center;}#sk-container-id-4 label.sk-toggleable__label-arrow:before {content: \"▸\";float: left;margin-right: 0.25em;color: #696969;}#sk-container-id-4 label.sk-toggleable__label-arrow:hover:before {color: black;}#sk-container-id-4 div.sk-estimator:hover label.sk-toggleable__label-arrow:before {color: black;}#sk-container-id-4 div.sk-toggleable__content {max-height: 0;max-width: 0;overflow: hidden;text-align: left;background-color: #f0f8ff;}#sk-container-id-4 div.sk-toggleable__content pre {margin: 0.2em;color: black;border-radius: 0.25em;background-color: #f0f8ff;}#sk-container-id-4 input.sk-toggleable__control:checked~div.sk-toggleable__content {max-height: 200px;max-width: 100%;overflow: auto;}#sk-container-id-4 input.sk-toggleable__control:checked~label.sk-toggleable__label-arrow:before {content: \"▾\";}#sk-container-id-4 div.sk-estimator input.sk-toggleable__control:checked~label.sk-toggleable__label {background-color: #d4ebff;}#sk-container-id-4 div.sk-label input.sk-toggleable__control:checked~label.sk-toggleable__label {background-color: #d4ebff;}#sk-container-id-4 input.sk-hidden--visually {border: 0;clip: rect(1px 1px 1px 1px);clip: rect(1px, 1px, 1px, 1px);height: 1px;margin: -1px;overflow: hidden;padding: 0;position: absolute;width: 1px;}#sk-container-id-4 div.sk-estimator {font-family: monospace;background-color: #f0f8ff;border: 1px dotted black;border-radius: 0.25em;box-sizing: border-box;margin-bottom: 0.5em;}#sk-container-id-4 div.sk-estimator:hover {background-color: #d4ebff;}#sk-container-id-4 div.sk-parallel-item::after {content: \"\";width: 100%;border-bottom: 1px solid gray;flex-grow: 1;}#sk-container-id-4 div.sk-label:hover label.sk-toggleable__label {background-color: #d4ebff;}#sk-container-id-4 div.sk-serial::before {content: \"\";position: absolute;border-left: 1px solid gray;box-sizing: border-box;top: 0;bottom: 0;left: 50%;z-index: 0;}#sk-container-id-4 div.sk-serial {display: flex;flex-direction: column;align-items: center;background-color: white;padding-right: 0.2em;padding-left: 0.2em;position: relative;}#sk-container-id-4 div.sk-item {position: relative;z-index: 1;}#sk-container-id-4 div.sk-parallel {display: flex;align-items: stretch;justify-content: center;background-color: white;position: relative;}#sk-container-id-4 div.sk-item::before, #sk-container-id-4 div.sk-parallel-item::before {content: \"\";position: absolute;border-left: 1px solid gray;box-sizing: border-box;top: 0;bottom: 0;left: 50%;z-index: -1;}#sk-container-id-4 div.sk-parallel-item {display: flex;flex-direction: column;z-index: 1;position: relative;background-color: white;}#sk-container-id-4 div.sk-parallel-item:first-child::after {align-self: flex-end;width: 50%;}#sk-container-id-4 div.sk-parallel-item:last-child::after {align-self: flex-start;width: 50%;}#sk-container-id-4 div.sk-parallel-item:only-child::after {width: 0;}#sk-container-id-4 div.sk-dashed-wrapped {border: 1px dashed gray;margin: 0 0.4em 0.5em 0.4em;box-sizing: border-box;padding-bottom: 0.4em;background-color: white;}#sk-container-id-4 div.sk-label label {font-family: monospace;font-weight: bold;display: inline-block;line-height: 1.2em;}#sk-container-id-4 div.sk-label-container {text-align: center;}#sk-container-id-4 div.sk-container {/* jupyter's `normalize.less` sets `[hidden] { display: none; }` but bootstrap.min.css set `[hidden] { display: none !important; }` so we also need the `!important` here to be able to override the default hidden behavior on the sphinx rendered scikit-learn.org. See: https://github.com/scikit-learn/scikit-learn/issues/21755 */display: inline-block !important;position: relative;}#sk-container-id-4 div.sk-text-repr-fallback {display: none;}</style><div id=\"sk-container-id-4\" class=\"sk-top-container\"><div class=\"sk-text-repr-fallback\"><pre>OneHotEncoder()</pre><b>In a Jupyter environment, please rerun this cell to show the HTML representation or trust the notebook. <br />On GitHub, the HTML representation is unable to render, please try loading this page with nbviewer.org.</b></div><div class=\"sk-container\" hidden><div class=\"sk-item\"><div class=\"sk-estimator sk-toggleable\"><input class=\"sk-toggleable__control sk-hidden--visually\" id=\"sk-estimator-id-10\" type=\"checkbox\" checked><label for=\"sk-estimator-id-10\" class=\"sk-toggleable__label sk-toggleable__label-arrow\">OneHotEncoder</label><div class=\"sk-toggleable__content\"><pre>OneHotEncoder()</pre></div></div></div></div></div>"
      ],
      "text/plain": [
       "OneHotEncoder()"
      ]
     },
     "execution_count": 168,
     "metadata": {},
     "output_type": "execute_result"
    }
   ],
   "source": [
    "ohe.fit(x[[\"club\",\"position\"]])"
   ]
  },
  {
   "cell_type": "code",
   "execution_count": 169,
   "id": "de661b52",
   "metadata": {},
   "outputs": [
    {
     "data": {
      "text/plain": [
       "[array(['Arsenal', 'Bournemouth', 'Brighton+and+Hove', 'Burnley',\n",
       "        'Chelsea', 'Crystal+Palace', 'Everton', 'Huddersfield',\n",
       "        'Leicester+City', 'Liverpool', 'Manchester+City',\n",
       "        'Manchester+United', 'Newcastle+United', 'Southampton',\n",
       "        'Stoke+City', 'Swansea', 'Tottenham', 'Watford', 'West+Brom',\n",
       "        'West+Ham'], dtype=object),\n",
       " array(['AM', 'CB', 'CF', 'CM', 'DM', 'GK', 'LB', 'LM', 'LW', 'RB', 'RM',\n",
       "        'RW', 'SS'], dtype=object)]"
      ]
     },
     "execution_count": 169,
     "metadata": {},
     "output_type": "execute_result"
    }
   ],
   "source": [
    "ohe.categories_"
   ]
  },
  {
   "cell_type": "code",
   "execution_count": 170,
   "id": "de05f9b5",
   "metadata": {},
   "outputs": [],
   "source": [
    "#column transformer"
   ]
  },
  {
   "cell_type": "code",
   "execution_count": 171,
   "id": "84e6c3a2",
   "metadata": {},
   "outputs": [],
   "source": [
    "from sklearn.compose import make_column_transformer "
   ]
  },
  {
   "cell_type": "code",
   "execution_count": 172,
   "id": "fd446621",
   "metadata": {},
   "outputs": [],
   "source": [
    "from sklearn.compose import ColumnTransformer"
   ]
  },
  {
   "cell_type": "code",
   "execution_count": 173,
   "id": "c928a5ee",
   "metadata": {},
   "outputs": [],
   "source": [
    "# transformer = ColumnTransformer(transformers=[ (\"ohe\",OneHotEncoder(sparse=False),[\"club\",\"position\"])],remainder=\"passthrough\")\n",
    "# transformer.fit_transform(x_train)"
   ]
  },
  {
   "cell_type": "code",
   "execution_count": 174,
   "id": "a257ba1a",
   "metadata": {},
   "outputs": [],
   "source": [
    "col_trans = make_column_transformer((OneHotEncoder(categories= ohe.categories_) , \n",
    "                                    [0,1]) , remainder= 'passthrough')"
   ]
  },
  {
   "cell_type": "code",
   "execution_count": 175,
   "id": "24a3fd64",
   "metadata": {},
   "outputs": [],
   "source": [
    "lr = LinearRegression()"
   ]
  },
  {
   "cell_type": "code",
   "execution_count": null,
   "id": "b3cd392b",
   "metadata": {},
   "outputs": [],
   "source": []
  },
  {
   "cell_type": "code",
   "execution_count": 176,
   "id": "41a88f04",
   "metadata": {},
   "outputs": [],
   "source": [
    "from sklearn.pipeline import make_pipeline"
   ]
  },
  {
   "cell_type": "code",
   "execution_count": 177,
   "id": "76268bda",
   "metadata": {},
   "outputs": [],
   "source": [
    "pipe = make_pipeline(col_trans,lr)"
   ]
  },
  {
   "cell_type": "code",
   "execution_count": 178,
   "id": "c2d95151",
   "metadata": {},
   "outputs": [
    {
     "data": {
      "text/html": [
       "<style>#sk-container-id-5 {color: black;}#sk-container-id-5 pre{padding: 0;}#sk-container-id-5 div.sk-toggleable {background-color: white;}#sk-container-id-5 label.sk-toggleable__label {cursor: pointer;display: block;width: 100%;margin-bottom: 0;padding: 0.3em;box-sizing: border-box;text-align: center;}#sk-container-id-5 label.sk-toggleable__label-arrow:before {content: \"▸\";float: left;margin-right: 0.25em;color: #696969;}#sk-container-id-5 label.sk-toggleable__label-arrow:hover:before {color: black;}#sk-container-id-5 div.sk-estimator:hover label.sk-toggleable__label-arrow:before {color: black;}#sk-container-id-5 div.sk-toggleable__content {max-height: 0;max-width: 0;overflow: hidden;text-align: left;background-color: #f0f8ff;}#sk-container-id-5 div.sk-toggleable__content pre {margin: 0.2em;color: black;border-radius: 0.25em;background-color: #f0f8ff;}#sk-container-id-5 input.sk-toggleable__control:checked~div.sk-toggleable__content {max-height: 200px;max-width: 100%;overflow: auto;}#sk-container-id-5 input.sk-toggleable__control:checked~label.sk-toggleable__label-arrow:before {content: \"▾\";}#sk-container-id-5 div.sk-estimator input.sk-toggleable__control:checked~label.sk-toggleable__label {background-color: #d4ebff;}#sk-container-id-5 div.sk-label input.sk-toggleable__control:checked~label.sk-toggleable__label {background-color: #d4ebff;}#sk-container-id-5 input.sk-hidden--visually {border: 0;clip: rect(1px 1px 1px 1px);clip: rect(1px, 1px, 1px, 1px);height: 1px;margin: -1px;overflow: hidden;padding: 0;position: absolute;width: 1px;}#sk-container-id-5 div.sk-estimator {font-family: monospace;background-color: #f0f8ff;border: 1px dotted black;border-radius: 0.25em;box-sizing: border-box;margin-bottom: 0.5em;}#sk-container-id-5 div.sk-estimator:hover {background-color: #d4ebff;}#sk-container-id-5 div.sk-parallel-item::after {content: \"\";width: 100%;border-bottom: 1px solid gray;flex-grow: 1;}#sk-container-id-5 div.sk-label:hover label.sk-toggleable__label {background-color: #d4ebff;}#sk-container-id-5 div.sk-serial::before {content: \"\";position: absolute;border-left: 1px solid gray;box-sizing: border-box;top: 0;bottom: 0;left: 50%;z-index: 0;}#sk-container-id-5 div.sk-serial {display: flex;flex-direction: column;align-items: center;background-color: white;padding-right: 0.2em;padding-left: 0.2em;position: relative;}#sk-container-id-5 div.sk-item {position: relative;z-index: 1;}#sk-container-id-5 div.sk-parallel {display: flex;align-items: stretch;justify-content: center;background-color: white;position: relative;}#sk-container-id-5 div.sk-item::before, #sk-container-id-5 div.sk-parallel-item::before {content: \"\";position: absolute;border-left: 1px solid gray;box-sizing: border-box;top: 0;bottom: 0;left: 50%;z-index: -1;}#sk-container-id-5 div.sk-parallel-item {display: flex;flex-direction: column;z-index: 1;position: relative;background-color: white;}#sk-container-id-5 div.sk-parallel-item:first-child::after {align-self: flex-end;width: 50%;}#sk-container-id-5 div.sk-parallel-item:last-child::after {align-self: flex-start;width: 50%;}#sk-container-id-5 div.sk-parallel-item:only-child::after {width: 0;}#sk-container-id-5 div.sk-dashed-wrapped {border: 1px dashed gray;margin: 0 0.4em 0.5em 0.4em;box-sizing: border-box;padding-bottom: 0.4em;background-color: white;}#sk-container-id-5 div.sk-label label {font-family: monospace;font-weight: bold;display: inline-block;line-height: 1.2em;}#sk-container-id-5 div.sk-label-container {text-align: center;}#sk-container-id-5 div.sk-container {/* jupyter's `normalize.less` sets `[hidden] { display: none; }` but bootstrap.min.css set `[hidden] { display: none !important; }` so we also need the `!important` here to be able to override the default hidden behavior on the sphinx rendered scikit-learn.org. See: https://github.com/scikit-learn/scikit-learn/issues/21755 */display: inline-block !important;position: relative;}#sk-container-id-5 div.sk-text-repr-fallback {display: none;}</style><div id=\"sk-container-id-5\" class=\"sk-top-container\"><div class=\"sk-text-repr-fallback\"><pre>Pipeline(steps=[(&#x27;columntransformer&#x27;,\n",
       "                 ColumnTransformer(remainder=&#x27;passthrough&#x27;,\n",
       "                                   transformers=[(&#x27;onehotencoder&#x27;,\n",
       "                                                  OneHotEncoder(categories=[array([&#x27;Arsenal&#x27;, &#x27;Bournemouth&#x27;, &#x27;Brighton+and+Hove&#x27;, &#x27;Burnley&#x27;,\n",
       "       &#x27;Chelsea&#x27;, &#x27;Crystal+Palace&#x27;, &#x27;Everton&#x27;, &#x27;Huddersfield&#x27;,\n",
       "       &#x27;Leicester+City&#x27;, &#x27;Liverpool&#x27;, &#x27;Manchester+City&#x27;,\n",
       "       &#x27;Manchester+United&#x27;, &#x27;Newcastle+United&#x27;, &#x27;Southampton&#x27;,\n",
       "       &#x27;Stoke+City&#x27;, &#x27;Swansea&#x27;, &#x27;Tottenham&#x27;, &#x27;Watford&#x27;, &#x27;West+Brom&#x27;,\n",
       "       &#x27;West+Ham&#x27;], dtype=object),\n",
       "                                                                            array([&#x27;AM&#x27;, &#x27;CB&#x27;, &#x27;CF&#x27;, &#x27;CM&#x27;, &#x27;DM&#x27;, &#x27;GK&#x27;, &#x27;LB&#x27;, &#x27;LM&#x27;, &#x27;LW&#x27;, &#x27;RB&#x27;, &#x27;RM&#x27;,\n",
       "       &#x27;RW&#x27;, &#x27;SS&#x27;], dtype=object)]),\n",
       "                                                  [0, 1])])),\n",
       "                (&#x27;linearregression&#x27;, LinearRegression())])</pre><b>In a Jupyter environment, please rerun this cell to show the HTML representation or trust the notebook. <br />On GitHub, the HTML representation is unable to render, please try loading this page with nbviewer.org.</b></div><div class=\"sk-container\" hidden><div class=\"sk-item sk-dashed-wrapped\"><div class=\"sk-label-container\"><div class=\"sk-label sk-toggleable\"><input class=\"sk-toggleable__control sk-hidden--visually\" id=\"sk-estimator-id-11\" type=\"checkbox\" ><label for=\"sk-estimator-id-11\" class=\"sk-toggleable__label sk-toggleable__label-arrow\">Pipeline</label><div class=\"sk-toggleable__content\"><pre>Pipeline(steps=[(&#x27;columntransformer&#x27;,\n",
       "                 ColumnTransformer(remainder=&#x27;passthrough&#x27;,\n",
       "                                   transformers=[(&#x27;onehotencoder&#x27;,\n",
       "                                                  OneHotEncoder(categories=[array([&#x27;Arsenal&#x27;, &#x27;Bournemouth&#x27;, &#x27;Brighton+and+Hove&#x27;, &#x27;Burnley&#x27;,\n",
       "       &#x27;Chelsea&#x27;, &#x27;Crystal+Palace&#x27;, &#x27;Everton&#x27;, &#x27;Huddersfield&#x27;,\n",
       "       &#x27;Leicester+City&#x27;, &#x27;Liverpool&#x27;, &#x27;Manchester+City&#x27;,\n",
       "       &#x27;Manchester+United&#x27;, &#x27;Newcastle+United&#x27;, &#x27;Southampton&#x27;,\n",
       "       &#x27;Stoke+City&#x27;, &#x27;Swansea&#x27;, &#x27;Tottenham&#x27;, &#x27;Watford&#x27;, &#x27;West+Brom&#x27;,\n",
       "       &#x27;West+Ham&#x27;], dtype=object),\n",
       "                                                                            array([&#x27;AM&#x27;, &#x27;CB&#x27;, &#x27;CF&#x27;, &#x27;CM&#x27;, &#x27;DM&#x27;, &#x27;GK&#x27;, &#x27;LB&#x27;, &#x27;LM&#x27;, &#x27;LW&#x27;, &#x27;RB&#x27;, &#x27;RM&#x27;,\n",
       "       &#x27;RW&#x27;, &#x27;SS&#x27;], dtype=object)]),\n",
       "                                                  [0, 1])])),\n",
       "                (&#x27;linearregression&#x27;, LinearRegression())])</pre></div></div></div><div class=\"sk-serial\"><div class=\"sk-item sk-dashed-wrapped\"><div class=\"sk-label-container\"><div class=\"sk-label sk-toggleable\"><input class=\"sk-toggleable__control sk-hidden--visually\" id=\"sk-estimator-id-12\" type=\"checkbox\" ><label for=\"sk-estimator-id-12\" class=\"sk-toggleable__label sk-toggleable__label-arrow\">columntransformer: ColumnTransformer</label><div class=\"sk-toggleable__content\"><pre>ColumnTransformer(remainder=&#x27;passthrough&#x27;,\n",
       "                  transformers=[(&#x27;onehotencoder&#x27;,\n",
       "                                 OneHotEncoder(categories=[array([&#x27;Arsenal&#x27;, &#x27;Bournemouth&#x27;, &#x27;Brighton+and+Hove&#x27;, &#x27;Burnley&#x27;,\n",
       "       &#x27;Chelsea&#x27;, &#x27;Crystal+Palace&#x27;, &#x27;Everton&#x27;, &#x27;Huddersfield&#x27;,\n",
       "       &#x27;Leicester+City&#x27;, &#x27;Liverpool&#x27;, &#x27;Manchester+City&#x27;,\n",
       "       &#x27;Manchester+United&#x27;, &#x27;Newcastle+United&#x27;, &#x27;Southampton&#x27;,\n",
       "       &#x27;Stoke+City&#x27;, &#x27;Swansea&#x27;, &#x27;Tottenham&#x27;, &#x27;Watford&#x27;, &#x27;West+Brom&#x27;,\n",
       "       &#x27;West+Ham&#x27;], dtype=object),\n",
       "                                                           array([&#x27;AM&#x27;, &#x27;CB&#x27;, &#x27;CF&#x27;, &#x27;CM&#x27;, &#x27;DM&#x27;, &#x27;GK&#x27;, &#x27;LB&#x27;, &#x27;LM&#x27;, &#x27;LW&#x27;, &#x27;RB&#x27;, &#x27;RM&#x27;,\n",
       "       &#x27;RW&#x27;, &#x27;SS&#x27;], dtype=object)]),\n",
       "                                 [0, 1])])</pre></div></div></div><div class=\"sk-parallel\"><div class=\"sk-parallel-item\"><div class=\"sk-item\"><div class=\"sk-label-container\"><div class=\"sk-label sk-toggleable\"><input class=\"sk-toggleable__control sk-hidden--visually\" id=\"sk-estimator-id-13\" type=\"checkbox\" ><label for=\"sk-estimator-id-13\" class=\"sk-toggleable__label sk-toggleable__label-arrow\">onehotencoder</label><div class=\"sk-toggleable__content\"><pre>[0, 1]</pre></div></div></div><div class=\"sk-serial\"><div class=\"sk-item\"><div class=\"sk-estimator sk-toggleable\"><input class=\"sk-toggleable__control sk-hidden--visually\" id=\"sk-estimator-id-14\" type=\"checkbox\" ><label for=\"sk-estimator-id-14\" class=\"sk-toggleable__label sk-toggleable__label-arrow\">OneHotEncoder</label><div class=\"sk-toggleable__content\"><pre>OneHotEncoder(categories=[array([&#x27;Arsenal&#x27;, &#x27;Bournemouth&#x27;, &#x27;Brighton+and+Hove&#x27;, &#x27;Burnley&#x27;,\n",
       "       &#x27;Chelsea&#x27;, &#x27;Crystal+Palace&#x27;, &#x27;Everton&#x27;, &#x27;Huddersfield&#x27;,\n",
       "       &#x27;Leicester+City&#x27;, &#x27;Liverpool&#x27;, &#x27;Manchester+City&#x27;,\n",
       "       &#x27;Manchester+United&#x27;, &#x27;Newcastle+United&#x27;, &#x27;Southampton&#x27;,\n",
       "       &#x27;Stoke+City&#x27;, &#x27;Swansea&#x27;, &#x27;Tottenham&#x27;, &#x27;Watford&#x27;, &#x27;West+Brom&#x27;,\n",
       "       &#x27;West+Ham&#x27;], dtype=object),\n",
       "                          array([&#x27;AM&#x27;, &#x27;CB&#x27;, &#x27;CF&#x27;, &#x27;CM&#x27;, &#x27;DM&#x27;, &#x27;GK&#x27;, &#x27;LB&#x27;, &#x27;LM&#x27;, &#x27;LW&#x27;, &#x27;RB&#x27;, &#x27;RM&#x27;,\n",
       "       &#x27;RW&#x27;, &#x27;SS&#x27;], dtype=object)])</pre></div></div></div></div></div></div><div class=\"sk-parallel-item\"><div class=\"sk-item\"><div class=\"sk-label-container\"><div class=\"sk-label sk-toggleable\"><input class=\"sk-toggleable__control sk-hidden--visually\" id=\"sk-estimator-id-15\" type=\"checkbox\" ><label for=\"sk-estimator-id-15\" class=\"sk-toggleable__label sk-toggleable__label-arrow\">remainder</label><div class=\"sk-toggleable__content\"><pre>[&#x27;page_views&#x27;, &#x27;fpl_value&#x27;, &#x27;fpl_sel&#x27;, &#x27;fpl_points&#x27;, &#x27;region&#x27;, &#x27;new_foreign&#x27;, &#x27;age_cat&#x27;, &#x27;big_club&#x27;, &#x27;new_signing&#x27;]</pre></div></div></div><div class=\"sk-serial\"><div class=\"sk-item\"><div class=\"sk-estimator sk-toggleable\"><input class=\"sk-toggleable__control sk-hidden--visually\" id=\"sk-estimator-id-16\" type=\"checkbox\" ><label for=\"sk-estimator-id-16\" class=\"sk-toggleable__label sk-toggleable__label-arrow\">passthrough</label><div class=\"sk-toggleable__content\"><pre>passthrough</pre></div></div></div></div></div></div></div></div><div class=\"sk-item\"><div class=\"sk-estimator sk-toggleable\"><input class=\"sk-toggleable__control sk-hidden--visually\" id=\"sk-estimator-id-17\" type=\"checkbox\" ><label for=\"sk-estimator-id-17\" class=\"sk-toggleable__label sk-toggleable__label-arrow\">LinearRegression</label><div class=\"sk-toggleable__content\"><pre>LinearRegression()</pre></div></div></div></div></div></div></div>"
      ],
      "text/plain": [
       "Pipeline(steps=[('columntransformer',\n",
       "                 ColumnTransformer(remainder='passthrough',\n",
       "                                   transformers=[('onehotencoder',\n",
       "                                                  OneHotEncoder(categories=[array(['Arsenal', 'Bournemouth', 'Brighton+and+Hove', 'Burnley',\n",
       "       'Chelsea', 'Crystal+Palace', 'Everton', 'Huddersfield',\n",
       "       'Leicester+City', 'Liverpool', 'Manchester+City',\n",
       "       'Manchester+United', 'Newcastle+United', 'Southampton',\n",
       "       'Stoke+City', 'Swansea', 'Tottenham', 'Watford', 'West+Brom',\n",
       "       'West+Ham'], dtype=object),\n",
       "                                                                            array(['AM', 'CB', 'CF', 'CM', 'DM', 'GK', 'LB', 'LM', 'LW', 'RB', 'RM',\n",
       "       'RW', 'SS'], dtype=object)]),\n",
       "                                                  [0, 1])])),\n",
       "                ('linearregression', LinearRegression())])"
      ]
     },
     "execution_count": 178,
     "metadata": {},
     "output_type": "execute_result"
    }
   ],
   "source": [
    "pipe.fit(x_train,y_train)"
   ]
  },
  {
   "cell_type": "code",
   "execution_count": null,
   "id": "c76d695e",
   "metadata": {},
   "outputs": [],
   "source": []
  },
  {
   "cell_type": "code",
   "execution_count": 179,
   "id": "f1fe40a0",
   "metadata": {},
   "outputs": [],
   "source": [
    "y_pred_test = pipe.predict(x_test)\n",
    "# y_pred_test"
   ]
  },
  {
   "cell_type": "code",
   "execution_count": 180,
   "id": "2826410b",
   "metadata": {},
   "outputs": [],
   "source": [
    "y_pred_train = pipe.predict(x_train)\n",
    "# y_pred_train"
   ]
  },
  {
   "cell_type": "code",
   "execution_count": 181,
   "id": "2baec8b4",
   "metadata": {},
   "outputs": [],
   "source": [
    "from sklearn.metrics import r2_score"
   ]
  },
  {
   "cell_type": "code",
   "execution_count": 182,
   "id": "d4401796",
   "metadata": {},
   "outputs": [],
   "source": [
    "# testing accuracy"
   ]
  },
  {
   "cell_type": "code",
   "execution_count": 183,
   "id": "aada1926",
   "metadata": {},
   "outputs": [
    {
     "data": {
      "text/plain": [
       "0.8284387103294388"
      ]
     },
     "execution_count": 183,
     "metadata": {},
     "output_type": "execute_result"
    }
   ],
   "source": [
    "r_two_score = r2_score(y_test,y_pred_test)\n",
    "r_two_score"
   ]
  },
  {
   "cell_type": "code",
   "execution_count": 184,
   "id": "a6940ed5",
   "metadata": {},
   "outputs": [],
   "source": [
    "# trainig accuracy"
   ]
  },
  {
   "cell_type": "code",
   "execution_count": 185,
   "id": "f05f4314",
   "metadata": {},
   "outputs": [
    {
     "data": {
      "text/plain": [
       "0.8008637414154769"
      ]
     },
     "execution_count": 185,
     "metadata": {},
     "output_type": "execute_result"
    }
   ],
   "source": [
    "r_two_score = r2_score(y_train,y_pred_train)\n",
    "r_two_score"
   ]
  },
  {
   "cell_type": "code",
   "execution_count": null,
   "id": "872af866",
   "metadata": {},
   "outputs": [],
   "source": []
  },
  {
   "cell_type": "markdown",
   "id": "3f7bcb7a",
   "metadata": {},
   "source": [
    "###  make pickle file"
   ]
  },
  {
   "cell_type": "code",
   "execution_count": 186,
   "id": "2dad2c70",
   "metadata": {},
   "outputs": [],
   "source": [
    "import pickle\n",
    "import json"
   ]
  },
  {
   "cell_type": "code",
   "execution_count": 187,
   "id": "16b6fbbc",
   "metadata": {},
   "outputs": [],
   "source": [
    "with open(\"pipeline.pkl\",\"wb\") as f:\n",
    "    pickle.dump(pipe,f)"
   ]
  },
  {
   "cell_type": "code",
   "execution_count": 188,
   "id": "a3a7d114",
   "metadata": {},
   "outputs": [],
   "source": [
    "with open('LinearModel.pkl' , 'wb') as f:\n",
    "    pickle.dump(lr,f)"
   ]
  },
  {
   "cell_type": "code",
   "execution_count": 189,
   "id": "29af82a2",
   "metadata": {},
   "outputs": [],
   "source": [
    "with open(\"OneHotEncoder.pkl\" , 'wb') as f:\n",
    "    pickle.dump(ohe , f)"
   ]
  },
  {
   "cell_type": "code",
   "execution_count": null,
   "id": "a20512a2",
   "metadata": {},
   "outputs": [],
   "source": []
  },
  {
   "cell_type": "code",
   "execution_count": null,
   "id": "53b72073",
   "metadata": {},
   "outputs": [],
   "source": []
  },
  {
   "cell_type": "code",
   "execution_count": null,
   "id": "4b2aa859",
   "metadata": {},
   "outputs": [],
   "source": []
  }
 ],
 "metadata": {
  "kernelspec": {
   "display_name": "Python 3 (ipykernel)",
   "language": "python",
   "name": "python3"
  },
  "language_info": {
   "codemirror_mode": {
    "name": "ipython",
    "version": 3
   },
   "file_extension": ".py",
   "mimetype": "text/x-python",
   "name": "python",
   "nbconvert_exporter": "python",
   "pygments_lexer": "ipython3",
   "version": "3.10.6"
  }
 },
 "nbformat": 4,
 "nbformat_minor": 5
}
